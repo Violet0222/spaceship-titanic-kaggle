{
 "cells": [
  {
   "cell_type": "code",
   "execution_count": 62,
   "id": "6ab6be5f",
   "metadata": {},
   "outputs": [],
   "source": [
    "from catboost import CatBoostClassifier\n",
    "from sklearn.metrics import classification_report, accuracy_score\n",
    "import pandas as pd"
   ]
  },
  {
   "cell_type": "markdown",
   "id": "5a9bf476",
   "metadata": {},
   "source": [
    "🔹 What is CatBoost?\n",
    "\n",
    "Gradient boosting algorithm developed by Yandex.\n",
    "\n",
    "Specially optimized for categorical features (hence the name).\n",
    "\n",
    "Automatically handles categorical variables → no need for manual OneHotEncoding or LabelEncoding.\n",
    "\n",
    "Works well out of the box with minimal tuning."
   ]
  },
  {
   "cell_type": "code",
   "execution_count": 63,
   "id": "4c43de91",
   "metadata": {},
   "outputs": [],
   "source": [
    "%store -r X_train\n",
    "X_train = X_train\n",
    "\n",
    "%store -r X_val\n",
    "X_val = X_val\n",
    "\n",
    "%store -r y_train\n",
    "y_train = y_train\n",
    "\n",
    "%store -r y_val\n",
    "y_val = y_val\n",
    "\n",
    "%store -r X_test\n",
    "X_test = X_test\n",
    "\n",
    "%store -r test_passenger_id"
   ]
  },
  {
   "cell_type": "code",
   "execution_count": 64,
   "id": "9d4e5f71",
   "metadata": {},
   "outputs": [],
   "source": [
    "cat = CatBoostClassifier(\n",
    "    iterations=500,        # number of boosting rounds (trees)\n",
    "    depth=6,               # depth of trees\n",
    "    learning_rate=0.1,     # step size\n",
    "    loss_function='Logloss',   # for classification\n",
    "    eval_metric='AUC',     # evaluation metric\n",
    "    random_seed=42,\n",
    "    verbose=100            # show training progress every 100 iterations\n",
    ")"
   ]
  },
  {
   "cell_type": "code",
   "execution_count": 65,
   "id": "a1b1ea42",
   "metadata": {},
   "outputs": [
    {
     "name": "stdout",
     "output_type": "stream",
     "text": [
      "0:\ttest: 0.8257346\tbest: 0.8257346 (0)\ttotal: 4.17ms\tremaining: 2.08s\n",
      "100:\ttest: 0.8892505\tbest: 0.8894736 (97)\ttotal: 685ms\tremaining: 2.7s\n",
      "Stopped by overfitting detector  (50 iterations wait)\n",
      "\n",
      "bestTest = 0.8906064111\n",
      "bestIteration = 115\n",
      "\n",
      "Shrink model to first 116 iterations.\n"
     ]
    },
    {
     "data": {
      "text/plain": [
       "<catboost.core.CatBoostClassifier at 0x2686d97e120>"
      ]
     },
     "execution_count": 65,
     "metadata": {},
     "output_type": "execute_result"
    }
   ],
   "source": [
    "cat.fit(X_train, y_train, eval_set=(X_val, y_val), early_stopping_rounds=50)\n"
   ]
  },
  {
   "cell_type": "code",
   "execution_count": 66,
   "id": "c08ac476",
   "metadata": {},
   "outputs": [],
   "source": [
    "y_train_pred = cat.predict(X_train)\n",
    "y_val_pred = cat.predict(X_val)"
   ]
  },
  {
   "cell_type": "code",
   "execution_count": 67,
   "id": "916a1764",
   "metadata": {},
   "outputs": [
    {
     "name": "stdout",
     "output_type": "stream",
     "text": [
      "Train accuracy: 0.8495879120879121\n",
      "Test accuracy: 0.7988846287905194\n",
      "\n",
      "Classification Report (Test):\n",
      "               precision    recall  f1-score   support\n",
      "\n",
      "       False       0.82      0.76      0.79      1424\n",
      "        True       0.78      0.84      0.81      1445\n",
      "\n",
      "    accuracy                           0.80      2869\n",
      "   macro avg       0.80      0.80      0.80      2869\n",
      "weighted avg       0.80      0.80      0.80      2869\n",
      "\n"
     ]
    }
   ],
   "source": [
    "print(\"Train accuracy:\", accuracy_score(y_train, y_train_pred))\n",
    "print(\"Test accuracy:\", accuracy_score(y_val, y_val_pred))\n",
    "print(\"\\nClassification Report (Test):\\n\", classification_report(y_val, y_val_pred))"
   ]
  },
  {
   "cell_type": "code",
   "execution_count": 75,
   "id": "cc00d7df",
   "metadata": {},
   "outputs": [
    {
     "data": {
      "text/html": [
       "<div>\n",
       "<style scoped>\n",
       "    .dataframe tbody tr th:only-of-type {\n",
       "        vertical-align: middle;\n",
       "    }\n",
       "\n",
       "    .dataframe tbody tr th {\n",
       "        vertical-align: top;\n",
       "    }\n",
       "\n",
       "    .dataframe thead th {\n",
       "        text-align: right;\n",
       "    }\n",
       "</style>\n",
       "<table border=\"1\" class=\"dataframe\">\n",
       "  <thead>\n",
       "    <tr style=\"text-align: right;\">\n",
       "      <th></th>\n",
       "      <th>PassengerId</th>\n",
       "      <th>Transported</th>\n",
       "    </tr>\n",
       "  </thead>\n",
       "  <tbody>\n",
       "    <tr>\n",
       "      <th>8693</th>\n",
       "      <td>0013_01</td>\n",
       "      <td>True</td>\n",
       "    </tr>\n",
       "    <tr>\n",
       "      <th>8694</th>\n",
       "      <td>0018_01</td>\n",
       "      <td>False</td>\n",
       "    </tr>\n",
       "    <tr>\n",
       "      <th>8695</th>\n",
       "      <td>0019_01</td>\n",
       "      <td>True</td>\n",
       "    </tr>\n",
       "    <tr>\n",
       "      <th>8696</th>\n",
       "      <td>0021_01</td>\n",
       "      <td>True</td>\n",
       "    </tr>\n",
       "    <tr>\n",
       "      <th>8697</th>\n",
       "      <td>0023_01</td>\n",
       "      <td>True</td>\n",
       "    </tr>\n",
       "    <tr>\n",
       "      <th>...</th>\n",
       "      <td>...</td>\n",
       "      <td>...</td>\n",
       "    </tr>\n",
       "    <tr>\n",
       "      <th>12965</th>\n",
       "      <td>9266_02</td>\n",
       "      <td>True</td>\n",
       "    </tr>\n",
       "    <tr>\n",
       "      <th>12966</th>\n",
       "      <td>9269_01</td>\n",
       "      <td>False</td>\n",
       "    </tr>\n",
       "    <tr>\n",
       "      <th>12967</th>\n",
       "      <td>9271_01</td>\n",
       "      <td>True</td>\n",
       "    </tr>\n",
       "    <tr>\n",
       "      <th>12968</th>\n",
       "      <td>9273_01</td>\n",
       "      <td>True</td>\n",
       "    </tr>\n",
       "    <tr>\n",
       "      <th>12969</th>\n",
       "      <td>9277_01</td>\n",
       "      <td>True</td>\n",
       "    </tr>\n",
       "  </tbody>\n",
       "</table>\n",
       "<p>4277 rows × 2 columns</p>\n",
       "</div>"
      ],
      "text/plain": [
       "      PassengerId  Transported\n",
       "8693      0013_01         True\n",
       "8694      0018_01        False\n",
       "8695      0019_01         True\n",
       "8696      0021_01         True\n",
       "8697      0023_01         True\n",
       "...           ...          ...\n",
       "12965     9266_02         True\n",
       "12966     9269_01        False\n",
       "12967     9271_01         True\n",
       "12968     9273_01         True\n",
       "12969     9277_01         True\n",
       "\n",
       "[4277 rows x 2 columns]"
      ]
     },
     "execution_count": 75,
     "metadata": {},
     "output_type": "execute_result"
    }
   ],
   "source": [
    "y_test_pred = cat.predict(X_test)\n",
    "y_test_pred = pd.DataFrame(y_test_pred,  index=X_test.index, columns=['Transported'])\n",
    "predicted_values = pd.merge(test_passenger_id,y_test_pred, how = 'left', left_index=True, right_index=True)\n",
    "predicted_values"
   ]
  },
  {
   "cell_type": "code",
   "execution_count": 77,
   "id": "ec3469ac",
   "metadata": {},
   "outputs": [],
   "source": [
    "predicted_values.to_csv('../data/submission.csv', index=False)"
   ]
  }
 ],
 "metadata": {
  "kernelspec": {
   "display_name": "Python 3",
   "language": "python",
   "name": "python3"
  },
  "language_info": {
   "codemirror_mode": {
    "name": "ipython",
    "version": 3
   },
   "file_extension": ".py",
   "mimetype": "text/x-python",
   "name": "python",
   "nbconvert_exporter": "python",
   "pygments_lexer": "ipython3",
   "version": "3.12.7"
  }
 },
 "nbformat": 4,
 "nbformat_minor": 5
}
