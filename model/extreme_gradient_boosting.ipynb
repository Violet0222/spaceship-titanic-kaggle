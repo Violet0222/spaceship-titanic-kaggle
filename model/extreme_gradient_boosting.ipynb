{
 "cells": [
  {
   "cell_type": "code",
   "execution_count": 2,
   "id": "e719d5ba",
   "metadata": {},
   "outputs": [],
   "source": [
    "from xgboost import XGBClassifier\n",
    "from sklearn.metrics import classification_report, accuracy_score"
   ]
  },
  {
   "cell_type": "markdown",
   "id": "3e98727e",
   "metadata": {},
   "source": [
    "Ідея XGBoost\n",
    "\n",
    "Це градуюче бустінгове дерево (Gradient Boosted Trees).\n",
    "\n",
    "Будується послідовність дерев, де кожне наступне дерево навчається на помилках попередніх.\n",
    "\n",
    "Перевага: дуже ефективно працює з великими й складними даними, добре підходить для tabular data."
   ]
  },
  {
   "cell_type": "code",
   "execution_count": 3,
   "id": "880b75a9",
   "metadata": {},
   "outputs": [],
   "source": [
    "%store -r X_train\n",
    "X_train = X_train\n",
    "\n",
    "%store -r X_test\n",
    "X_test = X_test\n",
    "\n",
    "%store -r y_train\n",
    "y_train = y_train\n",
    "\n",
    "%store -r y_test\n",
    "y_test = y_test"
   ]
  },
  {
   "cell_type": "code",
   "execution_count": 4,
   "id": "4b1e47fb",
   "metadata": {},
   "outputs": [],
   "source": [
    "xgb = XGBClassifier(\n",
    "    n_estimators=100,     # кількість дерев\n",
    "    max_depth=6,          # максимальна глибина дерева\n",
    "    learning_rate=0.1,    # крок навчання (чим менший, тим точніше, але повільніше)\n",
    "    subsample=0.8,        # частина даних для кожного дерева\n",
    "    colsample_bytree=0.8, # частина ознак для кожного дерева\n",
    "    random_state=42,\n",
    "    use_label_encoder=False,  # для новіших версій xgboost\n",
    "    eval_metric='logloss'     # функція втрат\n",
    ")"
   ]
  },
  {
   "cell_type": "code",
   "execution_count": 5,
   "id": "92537e0e",
   "metadata": {},
   "outputs": [
    {
     "name": "stderr",
     "output_type": "stream",
     "text": [
      "C:\\Users\\vikolosova\\AppData\\Roaming\\Python\\Python312\\site-packages\\xgboost\\training.py:183: UserWarning: [19:06:27] WARNING: C:\\actions-runner\\_work\\xgboost\\xgboost\\src\\learner.cc:738: \n",
      "Parameters: { \"use_label_encoder\" } are not used.\n",
      "\n",
      "  bst.update(dtrain, iteration=i, fobj=obj)\n"
     ]
    },
    {
     "name": "stdout",
     "output_type": "stream",
     "text": [
      "Train accuracy: 0.8780906593406593\n",
      "Test accuracy: 0.7950505402579295\n",
      "\n",
      "Classification Report (Test):\n",
      "               precision    recall  f1-score   support\n",
      "\n",
      "       False       0.81      0.77      0.79      1424\n",
      "        True       0.78      0.82      0.80      1445\n",
      "\n",
      "    accuracy                           0.80      2869\n",
      "   macro avg       0.80      0.79      0.79      2869\n",
      "weighted avg       0.80      0.80      0.79      2869\n",
      "\n"
     ]
    }
   ],
   "source": [
    "xgb.fit(X_train, y_train)\n",
    "\n",
    "# Передбачення\n",
    "y_train_pred = xgb.predict(X_train)\n",
    "y_test_pred = xgb.predict(X_test)\n",
    "\n",
    "# Оцінка\n",
    "print(\"Train accuracy:\", accuracy_score(y_train, y_train_pred))\n",
    "print(\"Test accuracy:\", accuracy_score(y_test, y_test_pred))\n",
    "print(\"\\nClassification Report (Test):\\n\", classification_report(y_test, y_test_pred))"
   ]
  }
 ],
 "metadata": {
  "kernelspec": {
   "display_name": "Python 3",
   "language": "python",
   "name": "python3"
  },
  "language_info": {
   "codemirror_mode": {
    "name": "ipython",
    "version": 3
   },
   "file_extension": ".py",
   "mimetype": "text/x-python",
   "name": "python",
   "nbconvert_exporter": "python",
   "pygments_lexer": "ipython3",
   "version": "3.12.7"
  }
 },
 "nbformat": 4,
 "nbformat_minor": 5
}
