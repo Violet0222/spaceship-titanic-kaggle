{
 "cells": [
  {
   "cell_type": "code",
   "execution_count": 63,
   "id": "d3dd87c2",
   "metadata": {},
   "outputs": [],
   "source": [
    "import pandas as pd\n",
    "import numpy as np\n",
    "from sklearn.model_selection import train_test_split\n",
    "from sklearn.preprocessing import OneHotEncoder\n",
    "from sklearn.preprocessing import StandardScaler"
   ]
  },
  {
   "cell_type": "code",
   "execution_count": 64,
   "id": "d687d39d",
   "metadata": {},
   "outputs": [
    {
     "data": {
      "text/html": [
       "<div>\n",
       "<style scoped>\n",
       "    .dataframe tbody tr th:only-of-type {\n",
       "        vertical-align: middle;\n",
       "    }\n",
       "\n",
       "    .dataframe tbody tr th {\n",
       "        vertical-align: top;\n",
       "    }\n",
       "\n",
       "    .dataframe thead th {\n",
       "        text-align: right;\n",
       "    }\n",
       "</style>\n",
       "<table border=\"1\" class=\"dataframe\">\n",
       "  <thead>\n",
       "    <tr style=\"text-align: right;\">\n",
       "      <th></th>\n",
       "      <th>CryoSleep</th>\n",
       "      <th>Destination</th>\n",
       "      <th>Age</th>\n",
       "      <th>VIP</th>\n",
       "      <th>RoomService</th>\n",
       "      <th>FoodCourt</th>\n",
       "      <th>ShoppingMall</th>\n",
       "      <th>Spa</th>\n",
       "      <th>VRDeck</th>\n",
       "      <th>Name</th>\n",
       "      <th>...</th>\n",
       "      <th>passenger_number_in_group</th>\n",
       "      <th>total_luxury_amenities</th>\n",
       "      <th>deck</th>\n",
       "      <th>num</th>\n",
       "      <th>side</th>\n",
       "      <th>first name</th>\n",
       "      <th>last name</th>\n",
       "      <th>group_size</th>\n",
       "      <th>HomePlanet</th>\n",
       "      <th>cabin_number_distribution_chunk</th>\n",
       "    </tr>\n",
       "  </thead>\n",
       "  <tbody>\n",
       "    <tr>\n",
       "      <th>0</th>\n",
       "      <td>False</td>\n",
       "      <td>TRAPPIST-1e</td>\n",
       "      <td>39</td>\n",
       "      <td>False</td>\n",
       "      <td>0.0</td>\n",
       "      <td>0.0</td>\n",
       "      <td>0.0</td>\n",
       "      <td>0.0</td>\n",
       "      <td>0.0</td>\n",
       "      <td>Maham Ofracculy</td>\n",
       "      <td>...</td>\n",
       "      <td>1</td>\n",
       "      <td>0.0</td>\n",
       "      <td>B</td>\n",
       "      <td>0</td>\n",
       "      <td>P</td>\n",
       "      <td>Maham</td>\n",
       "      <td>Ofracculy</td>\n",
       "      <td>1</td>\n",
       "      <td>Europa</td>\n",
       "      <td>chunk1</td>\n",
       "    </tr>\n",
       "    <tr>\n",
       "      <th>1</th>\n",
       "      <td>False</td>\n",
       "      <td>TRAPPIST-1e</td>\n",
       "      <td>24</td>\n",
       "      <td>False</td>\n",
       "      <td>109.0</td>\n",
       "      <td>9.0</td>\n",
       "      <td>25.0</td>\n",
       "      <td>549.0</td>\n",
       "      <td>44.0</td>\n",
       "      <td>Juanna Vines</td>\n",
       "      <td>...</td>\n",
       "      <td>1</td>\n",
       "      <td>736.0</td>\n",
       "      <td>F</td>\n",
       "      <td>0</td>\n",
       "      <td>S</td>\n",
       "      <td>Juanna</td>\n",
       "      <td>Vines</td>\n",
       "      <td>1</td>\n",
       "      <td>Earth</td>\n",
       "      <td>chunk1</td>\n",
       "    </tr>\n",
       "    <tr>\n",
       "      <th>2</th>\n",
       "      <td>False</td>\n",
       "      <td>TRAPPIST-1e</td>\n",
       "      <td>58</td>\n",
       "      <td>True</td>\n",
       "      <td>43.0</td>\n",
       "      <td>3576.0</td>\n",
       "      <td>0.0</td>\n",
       "      <td>6715.0</td>\n",
       "      <td>49.0</td>\n",
       "      <td>Altark Susent</td>\n",
       "      <td>...</td>\n",
       "      <td>1</td>\n",
       "      <td>10383.0</td>\n",
       "      <td>A</td>\n",
       "      <td>0</td>\n",
       "      <td>S</td>\n",
       "      <td>Altark</td>\n",
       "      <td>Susent</td>\n",
       "      <td>2</td>\n",
       "      <td>Europa</td>\n",
       "      <td>chunk1</td>\n",
       "    </tr>\n",
       "    <tr>\n",
       "      <th>3</th>\n",
       "      <td>False</td>\n",
       "      <td>TRAPPIST-1e</td>\n",
       "      <td>33</td>\n",
       "      <td>False</td>\n",
       "      <td>0.0</td>\n",
       "      <td>1283.0</td>\n",
       "      <td>371.0</td>\n",
       "      <td>3329.0</td>\n",
       "      <td>193.0</td>\n",
       "      <td>Solam Susent</td>\n",
       "      <td>...</td>\n",
       "      <td>2</td>\n",
       "      <td>5176.0</td>\n",
       "      <td>A</td>\n",
       "      <td>0</td>\n",
       "      <td>S</td>\n",
       "      <td>Solam</td>\n",
       "      <td>Susent</td>\n",
       "      <td>2</td>\n",
       "      <td>Europa</td>\n",
       "      <td>chunk1</td>\n",
       "    </tr>\n",
       "    <tr>\n",
       "      <th>4</th>\n",
       "      <td>False</td>\n",
       "      <td>TRAPPIST-1e</td>\n",
       "      <td>16</td>\n",
       "      <td>False</td>\n",
       "      <td>303.0</td>\n",
       "      <td>70.0</td>\n",
       "      <td>151.0</td>\n",
       "      <td>565.0</td>\n",
       "      <td>2.0</td>\n",
       "      <td>Willy Santantines</td>\n",
       "      <td>...</td>\n",
       "      <td>1</td>\n",
       "      <td>1091.0</td>\n",
       "      <td>F</td>\n",
       "      <td>1</td>\n",
       "      <td>S</td>\n",
       "      <td>Willy</td>\n",
       "      <td>Santantines</td>\n",
       "      <td>1</td>\n",
       "      <td>Earth</td>\n",
       "      <td>chunk1</td>\n",
       "    </tr>\n",
       "  </tbody>\n",
       "</table>\n",
       "<p>5 rows × 22 columns</p>\n",
       "</div>"
      ],
      "text/plain": [
       "   CryoSleep  Destination  Age    VIP  RoomService  FoodCourt  ShoppingMall  \\\n",
       "0      False  TRAPPIST-1e   39  False          0.0        0.0           0.0   \n",
       "1      False  TRAPPIST-1e   24  False        109.0        9.0          25.0   \n",
       "2      False  TRAPPIST-1e   58   True         43.0     3576.0           0.0   \n",
       "3      False  TRAPPIST-1e   33  False          0.0     1283.0         371.0   \n",
       "4      False  TRAPPIST-1e   16  False        303.0       70.0         151.0   \n",
       "\n",
       "      Spa  VRDeck               Name  ...  passenger_number_in_group  \\\n",
       "0     0.0     0.0    Maham Ofracculy  ...                          1   \n",
       "1   549.0    44.0       Juanna Vines  ...                          1   \n",
       "2  6715.0    49.0      Altark Susent  ...                          1   \n",
       "3  3329.0   193.0       Solam Susent  ...                          2   \n",
       "4   565.0     2.0  Willy Santantines  ...                          1   \n",
       "\n",
       "   total_luxury_amenities  deck  num side  first name    last name group_size  \\\n",
       "0                     0.0     B    0    P       Maham    Ofracculy          1   \n",
       "1                   736.0     F    0    S      Juanna        Vines          1   \n",
       "2                 10383.0     A    0    S      Altark       Susent          2   \n",
       "3                  5176.0     A    0    S       Solam       Susent          2   \n",
       "4                  1091.0     F    1    S       Willy  Santantines          1   \n",
       "\n",
       "  HomePlanet  cabin_number_distribution_chunk  \n",
       "0     Europa                           chunk1  \n",
       "1      Earth                           chunk1  \n",
       "2     Europa                           chunk1  \n",
       "3     Europa                           chunk1  \n",
       "4      Earth                           chunk1  \n",
       "\n",
       "[5 rows x 22 columns]"
      ]
     },
     "execution_count": 64,
     "metadata": {},
     "output_type": "execute_result"
    }
   ],
   "source": [
    "df = pd.read_csv('../data/data_before_preprocessing.csv')\n",
    "df.head()"
   ]
  },
  {
   "cell_type": "code",
   "execution_count": 65,
   "id": "3410c021",
   "metadata": {},
   "outputs": [],
   "source": [
    "df.drop(columns=['VIP', 'Name', 'last name', 'first name', 'num', 'passenger_group'], inplace=True)"
   ]
  },
  {
   "cell_type": "code",
   "execution_count": 66,
   "id": "b789f54b",
   "metadata": {},
   "outputs": [],
   "source": [
    "df['CryoSleep'] = df['CryoSleep'].astype(int)\n"
   ]
  },
  {
   "cell_type": "code",
   "execution_count": 67,
   "id": "5254bb8f",
   "metadata": {},
   "outputs": [
    {
     "data": {
      "text/plain": [
       "Index(['CryoSleep', 'Destination', 'Age', 'RoomService', 'FoodCourt',\n",
       "       'ShoppingMall', 'Spa', 'VRDeck', 'Transported',\n",
       "       'passenger_number_in_group', 'total_luxury_amenities', 'deck', 'side',\n",
       "       'group_size', 'HomePlanet', 'cabin_number_distribution_chunk'],\n",
       "      dtype='object')"
      ]
     },
     "execution_count": 67,
     "metadata": {},
     "output_type": "execute_result"
    }
   ],
   "source": [
    "df.columns"
   ]
  },
  {
   "cell_type": "code",
   "execution_count": 68,
   "id": "12540ef1",
   "metadata": {},
   "outputs": [],
   "source": [
    "X = df.drop(columns=['Transported'])\n",
    "y = df['Transported']"
   ]
  },
  {
   "cell_type": "code",
   "execution_count": 69,
   "id": "aba40cb8",
   "metadata": {},
   "outputs": [],
   "source": [
    "X_train, X_test, y_train, y_test = train_test_split(\n",
    "    X, y, test_size=0.33, random_state=42)"
   ]
  },
  {
   "cell_type": "code",
   "execution_count": 70,
   "id": "fabf8f51",
   "metadata": {},
   "outputs": [],
   "source": [
    "encoder = OneHotEncoder(drop='first', sparse_output=False, handle_unknown='ignore')"
   ]
  },
  {
   "cell_type": "code",
   "execution_count": 71,
   "id": "be5b4cd5",
   "metadata": {},
   "outputs": [],
   "source": [
    "categ_cols = ['Destination', 'HomePlanet', 'deck', 'side', 'cabin_number_distribution_chunk']\n",
    "categories_enc = encoder.fit_transform(X_train[categ_cols])\n",
    "categories_enc_df = pd.DataFrame(categories_enc, columns = encoder.get_feature_names_out(categ_cols), index=X_train.index)"
   ]
  },
  {
   "cell_type": "code",
   "execution_count": 72,
   "id": "88a4d3af",
   "metadata": {},
   "outputs": [],
   "source": [
    "X_train.drop(columns=categ_cols, inplace=True)\n",
    "X_train = pd.concat([X_train, categories_enc_df], axis = 1)\n"
   ]
  },
  {
   "cell_type": "code",
   "execution_count": 73,
   "id": "10d732a3",
   "metadata": {},
   "outputs": [],
   "source": [
    "# Для тесту\n",
    "categories_enc_test = encoder.transform(X_test[categ_cols])\n",
    "\n",
    "# Перетворюємо у DataFrame\n",
    "categories_enc_test_df = pd.DataFrame(\n",
    "    categories_enc_test,\n",
    "    columns=encoder.get_feature_names_out(categ_cols),\n",
    "    index=X_test.index\n",
    ")"
   ]
  },
  {
   "cell_type": "code",
   "execution_count": 74,
   "id": "19feb283",
   "metadata": {},
   "outputs": [],
   "source": [
    "X_test.drop(columns=categ_cols, inplace=True)\n",
    "X_test = pd.concat([X_test, categories_enc_test_df], axis = 1)"
   ]
  },
  {
   "cell_type": "code",
   "execution_count": 75,
   "id": "05f8b43f",
   "metadata": {},
   "outputs": [],
   "source": [
    "expenses= ['RoomService','FoodCourt','ShoppingMall','Spa','VRDeck', 'total_luxury_amenities']\n",
    "X_train[expenses] = np.log1p(X_train[expenses])\n",
    "X_test[expenses] = np.log1p(X_train[expenses])"
   ]
  },
  {
   "cell_type": "markdown",
   "id": "9d214b2d",
   "metadata": {},
   "source": [
    "# Scaling"
   ]
  },
  {
   "cell_type": "code",
   "execution_count": 76,
   "id": "5b724fbf",
   "metadata": {},
   "outputs": [],
   "source": [
    "scaler = StandardScaler()"
   ]
  },
  {
   "cell_type": "code",
   "execution_count": 77,
   "id": "4048d569",
   "metadata": {},
   "outputs": [],
   "source": [
    "numerical_columns = ['Age', 'RoomService', 'FoodCourt', 'ShoppingMall', 'Spa',\n",
    "       'VRDeck', 'passenger_number_in_group', 'total_luxury_amenities',\n",
    "       'group_size'] "
   ]
  },
  {
   "cell_type": "code",
   "execution_count": 78,
   "id": "af145de8",
   "metadata": {},
   "outputs": [],
   "source": [
    "X_train_scaled = scaler.fit_transform(X_train[numerical_columns])\n",
    "X_test_scaled = scaler.transform(X_test[numerical_columns])"
   ]
  },
  {
   "cell_type": "code",
   "execution_count": 79,
   "id": "daaa92f4",
   "metadata": {},
   "outputs": [],
   "source": [
    "X_train_scaled = pd.DataFrame(X_train_scaled, columns=numerical_columns, index=X_train.index)\n",
    "X_test_scaled = pd.DataFrame(X_test_scaled, columns=numerical_columns, index=X_test.index)"
   ]
  },
  {
   "cell_type": "code",
   "execution_count": 80,
   "id": "c8384a27",
   "metadata": {},
   "outputs": [],
   "source": [
    "X_train = X_train.drop(columns=numerical_columns).join(X_train_scaled)\n",
    "X_test = X_test.drop(columns=numerical_columns).join(X_test_scaled)"
   ]
  },
  {
   "cell_type": "code",
   "execution_count": 81,
   "id": "3a13c1ad",
   "metadata": {},
   "outputs": [
    {
     "name": "stdout",
     "output_type": "stream",
     "text": [
      "Stored 'X_train' (DataFrame)\n",
      "Stored 'X_test' (DataFrame)\n",
      "Stored 'y_train' (Series)\n",
      "Stored 'y_test' (Series)\n"
     ]
    }
   ],
   "source": [
    "%store X_train\n",
    "%store X_test\n",
    "\n",
    "%store y_train\n",
    "%store y_test"
   ]
  }
 ],
 "metadata": {
  "kernelspec": {
   "display_name": "Python 3",
   "language": "python",
   "name": "python3"
  },
  "language_info": {
   "codemirror_mode": {
    "name": "ipython",
    "version": 3
   },
   "file_extension": ".py",
   "mimetype": "text/x-python",
   "name": "python",
   "nbconvert_exporter": "python",
   "pygments_lexer": "ipython3",
   "version": "3.12.7"
  }
 },
 "nbformat": 4,
 "nbformat_minor": 5
}
